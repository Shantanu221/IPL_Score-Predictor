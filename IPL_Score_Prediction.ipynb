{
 "cells": [
  {
   "cell_type": "markdown",
   "metadata": {
    "id": "N_IqdSNj_Wqs"
   },
   "source": [
    "# IPL Score Prediction using Machine Learning\n"
   ]
  },
  {
   "cell_type": "markdown",
   "metadata": {
    "id": "80Zc0j7OEscX"
   },
   "source": [
    "##Importing libraries"
   ]
  },
  {
   "cell_type": "code",
   "execution_count": 5,
   "metadata": {
    "id": "DwURzy0iEycA"
   },
   "outputs": [
    {
     "ename": "ModuleNotFoundError",
     "evalue": "No module named 'seaborn'",
     "output_type": "error",
     "traceback": [
      "\u001b[1;31m---------------------------------------------------------------------------\u001b[0m",
      "\u001b[1;31mModuleNotFoundError\u001b[0m                       Traceback (most recent call last)",
      "Cell \u001b[1;32mIn[5], line 4\u001b[0m\n\u001b[0;32m      2\u001b[0m \u001b[38;5;28;01mimport\u001b[39;00m \u001b[38;5;21;01mmatplotlib\u001b[39;00m\u001b[38;5;21;01m.\u001b[39;00m\u001b[38;5;21;01mpyplot\u001b[39;00m \u001b[38;5;28;01mas\u001b[39;00m \u001b[38;5;21;01mplt\u001b[39;00m\n\u001b[0;32m      3\u001b[0m \u001b[38;5;28;01mimport\u001b[39;00m \u001b[38;5;21;01mpandas\u001b[39;00m \u001b[38;5;28;01mas\u001b[39;00m \u001b[38;5;21;01mpd\u001b[39;00m\n\u001b[1;32m----> 4\u001b[0m \u001b[38;5;28;01mimport\u001b[39;00m \u001b[38;5;21;01mseaborn\u001b[39;00m \u001b[38;5;28;01mas\u001b[39;00m \u001b[38;5;21;01msn\u001b[39;00m\n",
      "\u001b[1;31mModuleNotFoundError\u001b[0m: No module named 'seaborn'"
     ]
    }
   ],
   "source": [
    "import numpy as np\n",
    "import matplotlib.pyplot as plt\n",
    "import pandas as pd\n",
    "import seaborn as sn"
   ]
  },
  {
   "cell_type": "markdown",
   "metadata": {
    "id": "vXbYqNIFEyrO"
   },
   "source": [
    "##Importing dataset"
   ]
  },
  {
   "cell_type": "code",
   "execution_count": null,
   "metadata": {
    "id": "D2qWyEyLEzA3"
   },
   "outputs": [],
   "source": [
    "score_df = pd.read_csv('ipl_data.csv')"
   ]
  },
  {
   "cell_type": "code",
   "execution_count": null,
   "metadata": {
    "colab": {
     "base_uri": "https://localhost:8080/"
    },
    "id": "tcchtcd9tIs5",
    "outputId": "22eddb86-0bd0-4082-c132-2d58d316d25c"
   },
   "outputs": [],
   "source": [
    "print(score_df.head())"
   ]
  },
  {
   "cell_type": "code",
   "execution_count": null,
   "metadata": {
    "colab": {
     "base_uri": "https://localhost:8080/"
    },
    "id": "B3kMSsyH_2Fi",
    "outputId": "1597c105-de61-4d4d-856f-a6b245af3da6"
   },
   "outputs": [],
   "source": [
    "print(score_df.info())"
   ]
  },
  {
   "cell_type": "code",
   "execution_count": null,
   "metadata": {
    "colab": {
     "base_uri": "https://localhost:8080/",
     "height": 300
    },
    "id": "Oa505OYk_8MB",
    "outputId": "86bab02e-8624-4141-af84-ea65f983d083"
   },
   "outputs": [],
   "source": [
    "score_df.describe()"
   ]
  },
  {
   "cell_type": "code",
   "execution_count": null,
   "metadata": {
    "colab": {
     "base_uri": "https://localhost:8080/"
    },
    "id": "lcxhVc5VAMss",
    "outputId": "c5e8bc88-c77f-469e-f39b-8c5d42e580a9"
   },
   "outputs": [],
   "source": [
    "score_df.dtypes"
   ]
  },
  {
   "cell_type": "markdown",
   "metadata": {
    "id": "L0Mh_gdvAWZl"
   },
   "source": [
    "##Visualizing data"
   ]
  },
  {
   "cell_type": "code",
   "execution_count": null,
   "metadata": {
    "colab": {
     "base_uri": "https://localhost:8080/",
     "height": 529
    },
    "id": "XE-hLkfgAZKT",
    "outputId": "c0965ccb-6682-47cb-9387-2bd853072070"
   },
   "outputs": [],
   "source": [
    "#runs distribution\n",
    "sn.displot(score_df['total'],kde=False,bins=10)\n",
    "plt.title('Runs Distribution')\n",
    "plt.show()"
   ]
  },
  {
   "cell_type": "markdown",
   "metadata": {
    "id": "brqsbf3IEzQj"
   },
   "source": [
    "##Cleaning the dataset and dropping null values"
   ]
  },
  {
   "cell_type": "markdown",
   "metadata": {
    "id": "gpVUXeMCBZlu"
   },
   "source": [
    "Here we clean columns that won't provide any relevant information for our model to train"
   ]
  },
  {
   "cell_type": "code",
   "execution_count": null,
   "metadata": {
    "id": "zKudORTaEzkk"
   },
   "outputs": [],
   "source": [
    "irrelevant = ['mid', 'date', 'venue','batsman', 'bowler', 'striker', 'non-striker']\n",
    "score_df.drop(irrelevant,axis=1,inplace=True)\n",
    "score_df.dropna(axis=0,inplace=True)"
   ]
  },
  {
   "cell_type": "markdown",
   "metadata": {
    "id": "55rL70l6B22S"
   },
   "source": [
    "##Keeping only consistent teams"
   ]
  },
  {
   "cell_type": "code",
   "execution_count": null,
   "metadata": {
    "id": "0mUaRNtzB8O9"
   },
   "outputs": [],
   "source": [
    "const_teams = ['Kolkata Knight Riders', 'Chennai Super Kings', 'Rajasthan Royals',\n",
    "              'Mumbai Indians', 'Kings XI Punjab', 'Royal Challengers Bangalore',\n",
    "              'Delhi Daredevils', 'Sunrisers Hyderabad']"
   ]
  },
  {
   "cell_type": "code",
   "execution_count": null,
   "metadata": {
    "id": "x6LKnF1LCrio"
   },
   "outputs": [],
   "source": [
    "score_df = score_df[(score_df['bat_team'].isin(const_teams)) & (score_df['bowl_team'].isin(const_teams))]"
   ]
  },
  {
   "cell_type": "code",
   "execution_count": null,
   "metadata": {
    "colab": {
     "base_uri": "https://localhost:8080/"
    },
    "id": "bSjeMmz9DFU8",
    "outputId": "43561553-90f1-4506-cf94-667e6bc2cc4a"
   },
   "outputs": [],
   "source": [
    "print(score_df.shape)"
   ]
  },
  {
   "cell_type": "markdown",
   "metadata": {
    "id": "oJEmja-ZDRzW"
   },
   "source": [
    "##Removing the first 5 overs of every match"
   ]
  },
  {
   "cell_type": "code",
   "execution_count": null,
   "metadata": {
    "id": "Epgk4plNDWc_"
   },
   "outputs": [],
   "source": [
    "score_df = score_df[score_df['overs'] >= 5.0]"
   ]
  },
  {
   "cell_type": "code",
   "execution_count": null,
   "metadata": {
    "colab": {
     "base_uri": "https://localhost:8080/",
     "height": 206
    },
    "id": "83qkDuvoGoJ7",
    "outputId": "256e3921-676c-4eec-bbc5-fbee31a14ecf"
   },
   "outputs": [],
   "source": [
    "score_df.head()"
   ]
  },
  {
   "cell_type": "code",
   "execution_count": null,
   "metadata": {
    "colab": {
     "base_uri": "https://localhost:8080/"
    },
    "id": "TW7eeLLaKdEz",
    "outputId": "b1cdde97-8d9c-4524-bc7b-9f5e2ca34f1d"
   },
   "outputs": [],
   "source": [
    "score_df.shape"
   ]
  },
  {
   "cell_type": "markdown",
   "metadata": {
    "id": "W8ZSjiYEEzxd"
   },
   "source": [
    "##Encoding categorical variables"
   ]
  },
  {
   "cell_type": "markdown",
   "metadata": {
    "id": "RdYqgvIwIsfm"
   },
   "source": [
    "###Label Encoding"
   ]
  },
  {
   "cell_type": "code",
   "execution_count": null,
   "metadata": {
    "colab": {
     "base_uri": "https://localhost:8080/",
     "height": 206
    },
    "id": "xucs4qdLIvnz",
    "outputId": "27b52b63-c190-4087-ab8f-0b92f6b2eb76"
   },
   "outputs": [],
   "source": [
    "from sklearn.preprocessing import LabelEncoder\n",
    "le = LabelEncoder()\n",
    "for col in ['bat_team', 'bowl_team']:\n",
    "  score_df[col] = le.fit_transform(score_df[col])\n",
    "score_df.head()"
   ]
  },
  {
   "cell_type": "markdown",
   "metadata": {
    "id": "3isT_YuwI71n"
   },
   "source": [
    "###One Hot Encoding"
   ]
  },
  {
   "cell_type": "code",
   "execution_count": null,
   "metadata": {
    "id": "-EMJKydOvMmC"
   },
   "outputs": [],
   "source": [
    "from sklearn.compose import ColumnTransformer\n",
    "from sklearn.preprocessing import OneHotEncoder\n",
    "ct = ColumnTransformer(transformers=[('encoder', OneHotEncoder(), [0,1])], remainder='passthrough')"
   ]
  },
  {
   "cell_type": "code",
   "execution_count": null,
   "metadata": {
    "id": "rbpT08AFJPT3"
   },
   "outputs": [],
   "source": [
    "score_df = np.array(ct.fit_transform(score_df))"
   ]
  },
  {
   "cell_type": "markdown",
   "metadata": {
    "id": "ml7-Zpf3Jwu2"
   },
   "source": [
    "Save the np array in a new DataFrame with transformed columns"
   ]
  },
  {
   "cell_type": "code",
   "execution_count": null,
   "metadata": {
    "id": "UPQqDWeZJ4cs"
   },
   "outputs": [],
   "source": [
    "cols = ['batting_team_Chennai Super Kings', 'batting_team_Delhi Daredevils', 'batting_team_Kings XI Punjab',\n",
    "              'batting_team_Kolkata Knight Riders', 'batting_team_Mumbai Indians', 'batting_team_Rajasthan Royals',\n",
    "              'batting_team_Royal Challengers Bangalore', 'batting_team_Sunrisers Hyderabad',\n",
    "              'bowling_team_Chennai Super Kings', 'bowling_team_Delhi Daredevils', 'bowling_team_Kings XI Punjab',\n",
    "              'bowling_team_Kolkata Knight Riders', 'bowling_team_Mumbai Indians', 'bowling_team_Rajasthan Royals',\n",
    "              'bowling_team_Royal Challengers Bangalore', 'bowling_team_Sunrisers Hyderabad', 'runs', 'wickets', 'overs',\n",
    "       'runs_last_5', 'wickets_last_5', 'total']\n",
    "df = pd.DataFrame(score_df, columns=cols)"
   ]
  },
  {
   "cell_type": "code",
   "execution_count": null,
   "metadata": {
    "colab": {
     "base_uri": "https://localhost:8080/",
     "height": 290
    },
    "id": "o2Dzl5RGJaVG",
    "outputId": "ee06696c-cf23-421d-aeed-800c405b4840"
   },
   "outputs": [],
   "source": [
    "df.head()"
   ]
  },
  {
   "cell_type": "markdown",
   "metadata": {
    "id": "04W0onbqLamc"
   },
   "source": [
    "#Model Building"
   ]
  },
  {
   "cell_type": "markdown",
   "metadata": {
    "id": "37mVfT2eyVDx"
   },
   "source": [
    "##Training set and test set"
   ]
  },
  {
   "cell_type": "code",
   "execution_count": null,
   "metadata": {
    "id": "kkyzbuylLi6h"
   },
   "outputs": [],
   "source": [
    "X = df.iloc[:,:-1].values\n",
    "y = df.iloc[:,-1].values"
   ]
  },
  {
   "cell_type": "code",
   "execution_count": null,
   "metadata": {
    "id": "823U0WUxyVaG"
   },
   "outputs": [],
   "source": [
    "from sklearn.model_selection import train_test_split\n",
    "X_train, X_test, y_train, y_test = train_test_split(X, y, test_size = 0.2, random_state = 1)"
   ]
  },
  {
   "cell_type": "markdown",
   "metadata": {
    "id": "v-H676PMPYsn"
   },
   "source": [
    "##Ml Algorithms"
   ]
  },
  {
   "cell_type": "code",
   "execution_count": null,
   "metadata": {
    "id": "MTVhvMuti8w3"
   },
   "outputs": [],
   "source": [
    "models = dict()"
   ]
  },
  {
   "cell_type": "markdown",
   "metadata": {
    "id": "OODSwwPnPcca"
   },
   "source": [
    "1. **Multiple Regression**"
   ]
  },
  {
   "cell_type": "code",
   "execution_count": null,
   "metadata": {
    "colab": {
     "base_uri": "https://localhost:8080/",
     "height": 74
    },
    "id": "IeQwpjbqQBe_",
    "outputId": "1906e8b0-ff70-4a8d-b3c0-2e44d6904bb9"
   },
   "outputs": [],
   "source": [
    "from sklearn.linear_model import LinearRegression\n",
    "lr = LinearRegression()\n",
    "lr.fit(X_train,y_train)"
   ]
  },
  {
   "cell_type": "code",
   "execution_count": null,
   "metadata": {
    "colab": {
     "base_uri": "https://localhost:8080/"
    },
    "id": "BNdfAqYIQXVm",
    "outputId": "9adbf069-86f7-4101-a578-1e28279e5c5e"
   },
   "outputs": [],
   "source": [
    "print(f'Train Score : {str(lr.score(X_train,y_train)*100)[:5]}%\\n Test Score ; {str(lr.score(X_test,y_test)*100)[:5]}%')\n",
    "models['multreg'] = str(lr.score(X_test,y_test)*100)"
   ]
  },
  {
   "cell_type": "markdown",
   "metadata": {
    "id": "MNSdv2TCSIoE"
   },
   "source": [
    "2. **SVR**"
   ]
  },
  {
   "cell_type": "code",
   "execution_count": null,
   "metadata": {
    "colab": {
     "base_uri": "https://localhost:8080/",
     "height": 74
    },
    "id": "T3z5KpH-SakU",
    "outputId": "6f9a0364-9866-43c3-dbc2-136bf91a92e9"
   },
   "outputs": [],
   "source": [
    "from sklearn.svm import SVR\n",
    "svr = SVR()\n",
    "svr.fit(X_train,y_train)"
   ]
  },
  {
   "cell_type": "code",
   "execution_count": null,
   "metadata": {
    "colab": {
     "base_uri": "https://localhost:8080/"
    },
    "id": "MS1SgwziULAv",
    "outputId": "eb0c7a43-e921-423a-da3b-7061ede03071"
   },
   "outputs": [],
   "source": [
    "print(f'Train Score : {str(svr.score(X_train,y_train)*100)[:5]}%\\n Test Score ; {str(svr.score(X_test,y_test)*100)[:5]}%')\n",
    "models['svm'] = str(svr.score(X_test,y_test)*100)"
   ]
  },
  {
   "cell_type": "markdown",
   "metadata": {
    "id": "s3ojTWgnUlTV"
   },
   "source": [
    "3. **KNR**"
   ]
  },
  {
   "cell_type": "code",
   "execution_count": null,
   "metadata": {
    "colab": {
     "base_uri": "https://localhost:8080/",
     "height": 74
    },
    "id": "JhFsf2iWUmBF",
    "outputId": "c062b090-f8b0-4d55-f6c8-787553cfd252"
   },
   "outputs": [],
   "source": [
    "from sklearn.neighbors import KNeighborsRegressor\n",
    "knr = KNeighborsRegressor()\n",
    "knr.fit(X_train,y_train)"
   ]
  },
  {
   "cell_type": "code",
   "execution_count": null,
   "metadata": {
    "colab": {
     "base_uri": "https://localhost:8080/"
    },
    "id": "0j3qvumSVDHx",
    "outputId": "da988861-ce09-45a5-9341-a9854278f32e"
   },
   "outputs": [],
   "source": [
    "print(f'Train Score : {str(knr.score(X_train,y_train)*100)[:5]}%\\n Test Score ; {str(knr.score(X_test,y_test)*100)[:5]}%')\n",
    "models['k-nr'] = str(knr.score(X_test,y_test)*100)"
   ]
  },
  {
   "cell_type": "markdown",
   "metadata": {
    "id": "qI1htEpEVQZX"
   },
   "source": [
    "4. **Decision Tree Regressor**"
   ]
  },
  {
   "cell_type": "code",
   "execution_count": null,
   "metadata": {
    "colab": {
     "base_uri": "https://localhost:8080/",
     "height": 74
    },
    "id": "TS9ineJTVQqd",
    "outputId": "6f14b702-2327-4461-faeb-ca4528ec84be"
   },
   "outputs": [],
   "source": [
    "from sklearn.tree import DecisionTreeRegressor\n",
    "dtr = DecisionTreeRegressor()\n",
    "dtr.fit(X_train,y_train)"
   ]
  },
  {
   "cell_type": "code",
   "execution_count": null,
   "metadata": {
    "colab": {
     "base_uri": "https://localhost:8080/"
    },
    "id": "3_X7tCYVVQ5H",
    "outputId": "b9cab380-d509-4601-b8f1-ebfa10ffbd8e"
   },
   "outputs": [],
   "source": [
    "print(f'Train Score : {str(dtr.score(X_train,y_train)*100)[:5]}%\\n Test Score ; {str(dtr.score(X_test,y_test)*100)[:5]}%')\n",
    "models['tree'] = str(dtr.score(X_test,y_test)*100)"
   ]
  },
  {
   "cell_type": "markdown",
   "metadata": {
    "id": "tMsaDGEKV1DF"
   },
   "source": [
    "5. **Random Forest Regression**"
   ]
  },
  {
   "cell_type": "code",
   "execution_count": null,
   "metadata": {
    "colab": {
     "base_uri": "https://localhost:8080/",
     "height": 74
    },
    "id": "FyjNZCXnV1WA",
    "outputId": "9a9d6d17-83d5-4c20-d7f6-3e6731326ba2"
   },
   "outputs": [],
   "source": [
    "from sklearn.ensemble import RandomForestRegressor\n",
    "rf = RandomForestRegressor()\n",
    "rf.fit(X_train,y_train)"
   ]
  },
  {
   "cell_type": "code",
   "execution_count": null,
   "metadata": {
    "colab": {
     "base_uri": "https://localhost:8080/"
    },
    "id": "3jOrD8XYV1fE",
    "outputId": "ee947a38-25a7-442a-ba82-220820c5785a"
   },
   "outputs": [],
   "source": [
    "print(f'Train Score : {str(rf.score(X_train,y_train)*100)[:5]}%\\n Test Score ; {str(rf.score(X_test,y_test)*100)[:5]}%')\n",
    "models['forest'] = str(rf.score(X_test,y_test)*100)"
   ]
  },
  {
   "cell_type": "markdown",
   "metadata": {
    "id": "wg2cgcEFWWfq"
   },
   "source": [
    "6. **XGBoost**"
   ]
  },
  {
   "cell_type": "code",
   "execution_count": null,
   "metadata": {
    "colab": {
     "base_uri": "https://localhost:8080/",
     "height": 248
    },
    "id": "KwVoNjByWWqK",
    "outputId": "a22d6c85-f0e0-4425-b952-b5a982921e6b"
   },
   "outputs": [],
   "source": [
    "from xgboost import XGBRegressor\n",
    "xgb = XGBRegressor()\n",
    "xgb.fit(X_train,y_train)"
   ]
  },
  {
   "cell_type": "code",
   "execution_count": null,
   "metadata": {
    "colab": {
     "base_uri": "https://localhost:8080/"
    },
    "id": "NHjB7-4vWW0h",
    "outputId": "c4bda523-d948-4edf-c4dd-1246e618ba14"
   },
   "outputs": [],
   "source": [
    "print(f'Train Score : {str(xgb.score(X_train,y_train)*100)[:5]}%\\n Test Score ; {str(xgb.score(X_test,y_test)*100)[:5]}%')\n",
    "models['xgb'] = str(xgb.score(X_test,y_test)*100)"
   ]
  },
  {
   "cell_type": "markdown",
   "metadata": {
    "id": "298BtSMfcnGQ"
   },
   "source": [
    "#Best Model"
   ]
  },
  {
   "cell_type": "code",
   "execution_count": null,
   "metadata": {
    "colab": {
     "base_uri": "https://localhost:8080/",
     "height": 430
    },
    "id": "JU4uANWKcovH",
    "outputId": "303538fc-b686-48c1-ced0-38698c4609bb"
   },
   "outputs": [],
   "source": [
    "model_name = list(models.keys())\n",
    "model_accuracy = list(map(float,models.values()))\n",
    "plt.bar(model_name,model_accuracy)\n",
    "plt.show()"
   ]
  },
  {
   "cell_type": "markdown",
   "metadata": {
    "id": "LfLHNcpedsTD"
   },
   "source": [
    "From above, we can see that **Random Forest** performed the best, closely followed by **Decision Tree** and **KNR**"
   ]
  },
  {
   "cell_type": "markdown",
   "metadata": {
    "id": "Fn3eRt72hR9E"
   },
   "source": [
    "#Export Model"
   ]
  },
  {
   "cell_type": "code",
   "execution_count": null,
   "metadata": {
    "id": "SUJ-AG9khT13"
   },
   "outputs": [],
   "source": [
    "import pickle\n",
    "filename = \"ml_model.pkl\"\n",
    "pickle.dump(rf, open(filename, \"wb\"))"
   ]
  }
 ],
 "metadata": {
  "colab": {
   "provenance": []
  },
  "kernelspec": {
   "display_name": "Python 3 (ipykernel)",
   "language": "python",
   "name": "python3"
  },
  "language_info": {
   "codemirror_mode": {
    "name": "ipython",
    "version": 3
   },
   "file_extension": ".py",
   "mimetype": "text/x-python",
   "name": "python",
   "nbconvert_exporter": "python",
   "pygments_lexer": "ipython3",
   "version": "3.11.5"
  }
 },
 "nbformat": 4,
 "nbformat_minor": 4
}
